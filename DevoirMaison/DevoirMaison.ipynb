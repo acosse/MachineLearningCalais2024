{
 "cells": [
  {
   "cell_type": "markdown",
   "metadata": {},
   "source": [
    "<h1><center>Ingénierie Mathématique 3, Devoir Maison</center></h1>\n",
    "<h1><center>Janvier 2025</center></h1>\n",
    "\n",
    "<h3><center>Total: 15 points<br>\n",
    "    <br>\n",
    "    Début: 1 Janvier 2025<br>\n",
    "    <br>\n",
    "    Fin: 24 Janvier 2025</center></h3>\n",
    "    \n",
    "   \n",
    "<h3><font color='red'>Consignes:</font></h3> \n",
    "\n",
    "<font color='red'>Aucun devoir soumis après le 20 janvier ne sera pris en compte. Les devoirs qui ne respectent pas strictement les consignes reprises sur le site web (http://www.augustincosse.com/wp-content/uploads/2023/03/consignesSoumission2.pdf) ne seront pas pris en compte. En particulier, la soumission consistera en un __unique__ fichier \".ipynb\" envoye par email dans un email dont l'objet sera \"INFO2 Ingenierie Math DM\"\n",
    "</font>"
   ]
  },
  {
   "cell_type": "markdown",
   "metadata": {},
   "source": [
    "## Question 1 (5pts) Un premier modèle\n",
    "\n",
    "On considère le jeu de données MNIST ci-dessous (les images peuvent être téléchargées via scikit learn ou via keras). On souhaite commencer par entraîner un modèle de régression logistique permettant de différencier les 1 des 0. Pour ce faire on procédera comme suit:\n",
    "\n",
    "- Extraire à partir des données ci-dessous, les images représentant des $1$ ou des $0$.\n",
    "- Séparer les données en un ensemble de test et un ensemble d'entraînement (on gardera 10% des données pour l'ensemble test)\n",
    "- Compléter la fonction \"binary_cross_entropy\" afin que celle-ci retourne la valeur de l'entropie binaire croisée ainsi que le gradient de cette fonction en une image donnée et pour un vecteur de coefficients de régression $\\mathbf{w}$ donne. \n",
    "- Compléter ensuite la fonction “optimisation\" afin qu'elle implémente une descente de gradient sur la fonction d'entropie binaire croisée. On souhaite  renvoyer en sortie le vecteur des coefficients de régression ainsi que (1) le taux de classification (en pourcentage de données correctement classées sur le nombre de données totales) sur les ensembles d'entraînement et de test.  \n",
    "\n"
   ]
  },
  {
   "cell_type": "code",
   "execution_count": null,
   "metadata": {},
   "outputs": [],
   "source": [
    "from sklearn.datasets import fetch_openml\n",
    "X, y = fetch_openml(\"mnist_784\", version=1, return_X_y=True, as_frame=False)\n",
    "\n",
    "\n",
    "def binary_cross_entropy(X, y, w):\n",
    "    \n",
    "    \n",
    "    '''la fonction doit calculer la valeur de l'entropie binaire croisée\n",
    "    l(w) = - sum_i t_i*log(sigma(y(x_i))) + (1-t_i)*log(1-sigma(y(x_i)))\n",
    "    ainsi que le gradient de cette fonction'''\n",
    "    \n",
    "    \n",
    "    \n",
    "    \n",
    "    \n",
    "    \n",
    "    \n",
    "    return bce_fun, bce_grad\n",
    "\n",
    "\n",
    "\n",
    "\n",
    "def optimisation(w_init, eta, X, y):\n",
    "    \n",
    "    \n",
    "    '''la fonction doit renvoyer le vecteur des coefficients de régression \n",
    "    pour le modèle de régression logistique ainsi que les taux de classification\n",
    "    sur l'ensemble test et sur l'ensemble d'entraînement '''\n",
    "    \n",
    "    \n",
    "    \n",
    "    \n",
    "    return w_opt, rate_bce_training, rate_bce_test "
   ]
  },
  {
   "cell_type": "markdown",
   "metadata": {},
   "source": [
    "## Question 2 (5pts) Un petit réseau convolutif\n",
    "\n",
    "On souhaite à présent ameliorer le resultat de la question 1 a l'aide d'un réseau convolutionnel. Pour ce faire, on souhaite utiliser la librairie Keras (voir https://keras.io/) et en particulier, le modele de reseau convolutionnel (https://keras.io/api/layers/convolution_layers/). Un réseau convolutionnel fonctionne en \"filtrant\" les images à l'aide de différents filtres dont les coefficients sont appris lors de l'étape d'entraînement. Un réseau convolutionnel efficace est typiquement constitué d'une succession de couches convolutives et de pooling (voir par exemple https://www.tensorflow.org/tutorials/images/cnn). \n",
    "\n",
    "Chaque couche convolutive déplace un filtre (dont les coefficients sont fixés lors de l'étape d'entraînement) sur les sorties des couches précédentes \n",
    "\n",
    "\n",
    "<img src=\"same_padding_no_strides.gif\" alt=\"stackoverflow.com\" width=304 height=142>\n",
    "\n",
    "\n",
    "Afin de réduire la dimension des sorties des couches successives, on alterne généralement entre des couches convolutives et des couches de pooling (équivalentes à un sous-échantillonnage) qui retiennent pour une région donnée, uniquement les pixels de plus forte intensité (afin de conserver une trace du contraste). Ces couches sont de la forme suivante:\n",
    "\n",
    "\n",
    "<img src=\"maxPool.png\" alt=\"stackoverflow.com\" width=504 height=142>\n"
   ]
  },
  {
   "cell_type": "markdown",
   "metadata": {},
   "source": [
    "En utilisant le modele Sequential() de keras et la fonction add() permettant d'ajouter des couches convolutionnelles ou de pooling, ainsi que la fonction compile() permettant d'entrainer le reseau, et en vous aidant de la documentation de tensorFlow (https://www.tensorflow.org/tutorials/images/cnn), entrainer un (petit) reseau convolutionnel sur les images 0 et 1 des donnees MNIST de la question 1 (A nouveau, on retiendra environ 10% de donnees pour l'ensemble test). "
   ]
  },
  {
   "cell_type": "code",
   "execution_count": null,
   "metadata": {},
   "outputs": [],
   "source": []
  },
  {
   "cell_type": "markdown",
   "metadata": {},
   "source": [
    "## Question 3 (5pts) Astuce du Noyau\n",
    "\n",
    "On souhaite à présent entraîner un modèle de régression linéaire dans l'espace noyau sur les images de 0 et de 1. Afin d'atteindre cet objectif, on procédera comme suit:\n",
    "\n",
    "- Sélectionner un sous-ensemble d'équilibre d'images de 0 et de 1 (on commencera par exemple par prendre 50 images du chiffre 0 et 50 images du chiffre 1). \n",
    "- Compléter la fonction G(x, y) qui renvoie la valeur d'un noyau Gaussien de paramètre sigma, aux points $x$ et $y$.\n",
    "- Compléter la fonction \"optimize\" a l'aide d'une descente de gradient dans l'espace noyau afin qu'elle retourne le vecteur des coefficients $\\lambda_j$ d'un modele du type\n",
    "$$y(x) = \\sum_{j=1}^N \\lambda_j G(x, x_j)$$\n",
    "\n",
    "- Comme pour la question 2, on souhaite implémenter la fonction \"optimize\" de façon à ce qu'elle retourne la liste des taux de classification correcte (sur l' ensemble d'entraînement et de test) pour chacune des itérations. \n"
   ]
  },
  {
   "cell_type": "code",
   "execution_count": null,
   "metadata": {},
   "outputs": [],
   "source": [
    "def G(x, y, sigma):\n",
    "    \n",
    "    '''La fonction doit renvoyer la valeur du noyeau gaussien de \n",
    "    variance sigma aux points x et y'''\n",
    "    \n",
    "    \n",
    "    \n",
    "    \n",
    "    return gaussian_kernel(x, y)\n",
    "\n",
    "\n",
    "def optimize(X, y, sigma):\n",
    "    \n",
    "    '''la fonction doit renvoyer le vecteur lambda d'un modele de type  \n",
    "    y(x) = sum_i lambda_i G(x, x_i, sigma) ou G est le noyeau Gaussien base sur \n",
    "    l'astuce du noyeau'''\n",
    "    \n",
    "    \n",
    "    \n",
    "    \n",
    "    \n",
    "    \n",
    "    \n",
    "    \n",
    "    \n",
    "    return lbda, rate_training, rate_test\n",
    "    \n",
    "    "
   ]
  }
 ],
 "metadata": {
  "kernelspec": {
   "display_name": "Python 3",
   "language": "python",
   "name": "python3"
  },
  "language_info": {
   "codemirror_mode": {
    "name": "ipython",
    "version": 3
   },
   "file_extension": ".py",
   "mimetype": "text/x-python",
   "name": "python",
   "nbconvert_exporter": "python",
   "pygments_lexer": "ipython3",
   "version": "3.8.5"
  }
 },
 "nbformat": 4,
 "nbformat_minor": 4
}
